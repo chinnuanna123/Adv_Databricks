{
 "cells": [
  {
   "cell_type": "code",
   "execution_count": 0,
   "metadata": {
    "application/vnd.databricks.v1+cell": {
     "cellMetadata": {},
     "inputWidgets": {},
     "nuid": "66d5f1d8-56f5-49dc-8d28-144e9dbf2ecf",
     "showTitle": false,
     "tableResultSettingsMap": {},
     "title": ""
    }
   },
   "outputs": [],
   "source": [
    "\n",
    "CREATE STREAMING LIVE TABLE sales\n",
    "AS SELECT *,current_timestamp() as ingestion_date FROM cloud_files(\"/Volumes/dlt/default/dlt/sales\", \"csv\");"
   ]
  },
  {
   "cell_type": "code",
   "execution_count": 0,
   "metadata": {
    "application/vnd.databricks.v1+cell": {
     "cellMetadata": {},
     "inputWidgets": {},
     "nuid": "74e2e05e-99a7-4ee4-bda9-afc18a4b701a",
     "showTitle": false,
     "tableResultSettingsMap": {},
     "title": ""
    }
   },
   "outputs": [],
   "source": [
    "CREATE STREAMING LIVE TABLE sales_silver\n",
    "AS \n",
    "SELECT DISTINCT * FROM STREAM(LIVE.sales);"
   ]
  },
  {
   "cell_type": "code",
   "execution_count": 0,
   "metadata": {
    "application/vnd.databricks.v1+cell": {
     "cellMetadata": {},
     "inputWidgets": {},
     "nuid": "163700bb-9d0f-491b-8f43-e797843d4009",
     "showTitle": false,
     "tableResultSettingsMap": {},
     "title": ""
    }
   },
   "outputs": [],
   "source": [
    "CREATE STREAMING LIVE TABLE customers\n",
    "AS SELECT *,current_timestamp() as ingestion_date FROM cloud_files(\"/Volumes/dlt/default/dlt/customers\", \"csv\");"
   ]
  },
  {
   "cell_type": "code",
   "execution_count": 0,
   "metadata": {
    "application/vnd.databricks.v1+cell": {
     "cellMetadata": {},
     "inputWidgets": {},
     "nuid": "86064bd8-6be6-404b-b462-e0eccf68acea",
     "showTitle": false,
     "tableResultSettingsMap": {},
     "title": ""
    }
   },
   "outputs": [],
   "source": [
    "-- Create and populate the customers_silver  table.\n",
    "CREATE OR REFRESH STREAMING TABLE customers_silver;\n",
    "\n",
    "APPLY CHANGES INTO\n",
    "  LIVE.customers_silver\n",
    "FROM\n",
    "  stream(LIVE.customers)\n",
    "KEYS\n",
    "  (customer_id)\n",
    "APPLY AS DELETE WHEN\n",
    "  operation = \"DELETE\"\n",
    "SEQUENCE BY\n",
    "  sequenceNum\n",
    "COLUMNS * EXCEPT\n",
    "  (operation, sequenceNum, _rescued_data, ingestion_date)\n",
    "STORED AS\n",
    "  SCD TYPE 2;"
   ]
  },
  {
   "cell_type": "code",
   "execution_count": 0,
   "metadata": {
    "application/vnd.databricks.v1+cell": {
     "cellMetadata": {},
     "inputWidgets": {},
     "nuid": "cf30ffd0-aa3f-4bbe-a747-59bb09e4d3b2",
     "showTitle": false,
     "tableResultSettingsMap": {},
     "title": ""
    }
   },
   "outputs": [],
   "source": [
    "CREATE STREAMING LIVE TABLE customers_silver_active\n",
    "AS\n",
    "SELECT customer_id, customer_name, customer_email, customer_city, customer_state from STREAM(LIVE.customers_silver) where '_END_AT_' is null"
   ]
  },
  {
   "cell_type": "code",
   "execution_count": 0,
   "metadata": {
    "application/vnd.databricks.v1+cell": {
     "cellMetadata": {},
     "inputWidgets": {},
     "nuid": "f0d416fd-3e58-472d-a7ee-2cafb81e71a1",
     "showTitle": false,
     "tableResultSettingsMap": {},
     "title": ""
    }
   },
   "outputs": [],
   "source": [
    "CREATE STREAMING LIVE TABLE products\n",
    "AS SELECT *,current_timestamp() as ingestion_date FROM cloud_files(\"/Volumes/dlt/default/dlt/products\", \"csv\");"
   ]
  },
  {
   "cell_type": "code",
   "execution_count": 0,
   "metadata": {
    "application/vnd.databricks.v1+cell": {
     "cellMetadata": {},
     "inputWidgets": {},
     "nuid": "c4a1ee91-501a-4117-a16f-07f38e1c36b6",
     "showTitle": false,
     "tableResultSettingsMap": {},
     "title": ""
    }
   },
   "outputs": [],
   "source": [
    "-- Create and populate the product_silver table.\n",
    "CREATE OR REFRESH STREAMING TABLE products_silver;\n",
    "\n",
    "APPLY CHANGES INTO\n",
    "  LIVE.products_silver\n",
    "FROM\n",
    "  stream(LIVE.products)\n",
    "KEYS\n",
    "  (product_id)\n",
    "APPLY AS DELETE WHEN\n",
    "  operation = \"DELETE\"\n",
    "SEQUENCE BY\n",
    "  seqNum\n",
    "COLUMNS * EXCEPT\n",
    "  (operation, seqNum, _rescued_data, ingestion_date)\n",
    "STORED AS\n",
    "  SCD TYPE 1;"
   ]
  },
  {
   "cell_type": "code",
   "execution_count": 0,
   "metadata": {
    "application/vnd.databricks.v1+cell": {
     "cellMetadata": {},
     "inputWidgets": {},
     "nuid": "641a7620-9d42-40ee-ad9c-2fc0405beef1",
     "showTitle": false,
     "tableResultSettingsMap": {},
     "title": ""
    }
   },
   "outputs": [],
   "source": [
    "create live table total_sales_customer as\n",
    "SELECT \n",
    "   c.customer_id, \n",
    "   c.customer_name, \n",
    "   round(SUM(s.total_amount)) AS total_sales,\n",
    "   SUM(s.discount_amount) AS total_discount\n",
    "FROM LIVE.sales_silver s\n",
    "JOIN LIVE.customers_silver_active c\n",
    "    ON c.customer_id = s.customer_id\n",
    "GROUP BY c.customer_id, c.customer_name;\n",
    "    \n"
   ]
  }
 ],
 "metadata": {
  "application/vnd.databricks.v1+notebook": {
   "computePreferences": null,
   "dashboards": [],
   "environmentMetadata": {
    "base_environment": "",
    "environment_version": "2"
   },
   "language": "sql",
   "notebookMetadata": {
    "pythonIndentUnit": 4
   },
   "notebookName": "DLT_Note",
   "widgets": {}
  },
  "language_info": {
   "name": "sql"
  }
 },
 "nbformat": 4,
 "nbformat_minor": 0
}