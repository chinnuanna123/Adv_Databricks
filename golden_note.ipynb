{
 "cells": [
  {
   "cell_type": "code",
   "execution_count": 0,
   "metadata": {
    "application/vnd.databricks.v1+cell": {
     "cellMetadata": {
      "byteLimit": 2048000,
      "rowLimit": 10000
     },
     "inputWidgets": {},
     "nuid": "f8c43d19-0f9d-466c-a90f-04836eb27811",
     "showTitle": false,
     "tableResultSettingsMap": {},
     "title": ""
    }
   },
   "outputs": [
    {
     "output_type": "stream",
     "name": "stdout",
     "output_type": "stream",
     "text": [
      "+----------+-----------------+--------------+-----------------+-----------------+\n|    JOB_ID|AVG_DOUBLE_SALARY|EMPLOYEE_COUNT|MAX_DOUBLE_SALARY|MIN_DOUBLE_SALARY|\n+----------+-----------------+--------------+-----------------+-----------------+\n|   AD_PRES|          48000.0|             1|            48000|            48000|\n|     AD_VP|          34000.0|             2|            34000|            34000|\n|    MK_MAN|          26000.0|             1|            26000|            26000|\n|    AC_MGR|          24016.0|             1|            24016|            24016|\n|    FI_MGR|          24016.0|             1|            24016|            24016|\n|    PU_MAN|          22000.0|             1|            22000|            22000|\n|    PR_REP|          20000.0|             1|            20000|            20000|\n|AC_ACCOUNT|          16600.0|             1|            16600|            16600|\n|FI_ACCOUNT|          15840.0|             5|            18000|            13800|\n|    ST_MAN|          14560.0|             5|            16400|            11600|\n|    HR_REP|          13000.0|             1|            13000|            13000|\n|    MK_REP|          12000.0|             1|            12000|            12000|\n|   IT_PROG|          11520.0|             5|            18000|             8400|\n|   AD_ASST|           8800.0|             1|             8800|             8800|\n|  PU_CLERK|           5560.0|             5|             6200|             5000|\n|  ST_CLERK|           5500.0|            16|             7200|             4200|\n|  SH_CLERK|           5200.0|             2|             5200|             5200|\n+----------+-----------------+--------------+-----------------+-----------------+\n\n"
     ]
    }
   ],
   "source": [
    "from pyspark.sql import SparkSession\n",
    "from pyspark.sql import functions as F\n",
    "\n",
    "# Paths for reading and saving data\n",
    "silver_path = \"dbfs:/Volumes/workspace/default/test/silver\"\n",
    "gold_path = \"dbfs:/Volumes/workspace/default/test/gold\"\n",
    "\n",
    "# Load Silver Data\n",
    "silver_df = spark.read.format(\"delta\").load(silver_path)\n",
    "\n",
    "# ==============================\n",
    "# Gold Layer Transformation\n",
    "# ==============================\n",
    "gold_df = (silver_df\n",
    "           .groupBy(\"JOB_ID\")\n",
    "           .agg(\n",
    "               F.avg(\"DOUBLE_SALARY\").alias(\"AVG_DOUBLE_SALARY\"),\n",
    "               F.count(\"*\").alias(\"EMPLOYEE_COUNT\"),\n",
    "               F.max(\"DOUBLE_SALARY\").alias(\"MAX_DOUBLE_SALARY\"),\n",
    "               F.min(\"DOUBLE_SALARY\").alias(\"MIN_DOUBLE_SALARY\")\n",
    "           )\n",
    "           .orderBy(F.desc(\"AVG_DOUBLE_SALARY\"))\n",
    ")\n",
    "\n",
    "# Write to Gold Layer as Delta Table\n",
    "gold_df.write.format(\"delta\") \\\n",
    "             .mode(\"overwrite\") \\\n",
    "             .option(\"overwriteSchema\", \"true\") \\\n",
    "             .save(gold_path)\n",
    "\n",
    "# Display the final aggregated data\n",
    "gold_df.show()\n"
   ]
  }
 ],
 "metadata": {
  "application/vnd.databricks.v1+notebook": {
   "computePreferences": null,
   "dashboards": [],
   "environmentMetadata": {
    "base_environment": "",
    "environment_version": "2"
   },
   "language": "python",
   "notebookMetadata": {
    "pythonIndentUnit": 4
   },
   "notebookName": "golden_note",
   "widgets": {}
  },
  "language_info": {
   "name": "python"
  }
 },
 "nbformat": 4,
 "nbformat_minor": 0
}